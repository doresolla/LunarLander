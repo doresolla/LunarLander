{
  "cells": [
    {
      "cell_type": "code",
      "execution_count": 2,
      "metadata": {
        "colab": {
          "base_uri": "https://localhost:8080/"
        },
        "id": "2ER3J6pNMrDH",
        "outputId": "c79c4937-a1d4-4b62-e5e8-acaf3150b1fd"
      },
      "outputs": [
        {
          "name": "stdout",
          "output_type": "stream",
          "text": [
            "Requirement already satisfied: swig in c:\\users\\dondu\\appdata\\local\\programs\\python\\python312\\lib\\site-packages (4.3.1)\n"
          ]
        },
        {
          "name": "stderr",
          "output_type": "stream",
          "text": [
            "\n",
            "[notice] A new release of pip is available: 24.2 -> 25.1.1\n",
            "[notice] To update, run: python.exe -m pip install --upgrade pip\n"
          ]
        }
      ],
      "source": [
        "!pip install swig"
      ]
    },
    {
      "cell_type": "code",
      "execution_count": 3,
      "metadata": {
        "colab": {
          "base_uri": "https://localhost:8080/"
        },
        "id": "oMpA62MiMiqY",
        "outputId": "55932bb6-2938-4c46-d59d-bcc44b1fc30b"
      },
      "outputs": [
        {
          "name": "stdout",
          "output_type": "stream",
          "text": [
            "Collecting gymnasium[box2d]\n",
            "  Downloading gymnasium-1.1.1-py3-none-any.whl.metadata (9.4 kB)\n",
            "Requirement already satisfied: numpy>=1.21.0 in c:\\users\\dondu\\appdata\\local\\programs\\python\\python312\\lib\\site-packages (from gymnasium[box2d]) (1.26.4)\n",
            "Collecting cloudpickle>=1.2.0 (from gymnasium[box2d])\n",
            "  Downloading cloudpickle-3.1.1-py3-none-any.whl.metadata (7.1 kB)\n",
            "Requirement already satisfied: typing-extensions>=4.3.0 in c:\\users\\dondu\\appdata\\local\\programs\\python\\python312\\lib\\site-packages (from gymnasium[box2d]) (4.12.2)\n",
            "Collecting farama-notifications>=0.0.1 (from gymnasium[box2d])\n",
            "  Downloading Farama_Notifications-0.0.4-py3-none-any.whl.metadata (558 bytes)\n",
            "Collecting box2d-py==2.3.5 (from gymnasium[box2d])\n",
            "  Downloading box2d-py-2.3.5.tar.gz (374 kB)\n",
            "  Preparing metadata (setup.py): started\n",
            "  Preparing metadata (setup.py): finished with status 'done'\n",
            "Collecting pygame>=2.1.3 (from gymnasium[box2d])\n",
            "  Downloading pygame-2.6.1-cp312-cp312-win_amd64.whl.metadata (13 kB)\n",
            "Requirement already satisfied: swig==4.* in c:\\users\\dondu\\appdata\\local\\programs\\python\\python312\\lib\\site-packages (from gymnasium[box2d]) (4.3.1)\n",
            "Downloading cloudpickle-3.1.1-py3-none-any.whl (20 kB)\n",
            "Downloading Farama_Notifications-0.0.4-py3-none-any.whl (2.5 kB)\n",
            "Downloading pygame-2.6.1-cp312-cp312-win_amd64.whl (10.6 MB)\n",
            "   ---------------------------------------- 0.0/10.6 MB ? eta -:--:--\n",
            "   -- ------------------------------------- 0.8/10.6 MB 4.2 MB/s eta 0:00:03\n",
            "   ---- ----------------------------------- 1.3/10.6 MB 5.2 MB/s eta 0:00:02\n",
            "   ---- ----------------------------------- 1.3/10.6 MB 5.2 MB/s eta 0:00:02\n",
            "   ---- ----------------------------------- 1.3/10.6 MB 5.2 MB/s eta 0:00:02\n",
            "   ----- ---------------------------------- 1.6/10.6 MB 1.5 MB/s eta 0:00:06\n",
            "   ------ --------------------------------- 1.8/10.6 MB 1.4 MB/s eta 0:00:07\n",
            "   -------- ------------------------------- 2.4/10.6 MB 1.6 MB/s eta 0:00:06\n",
            "   ----------- ---------------------------- 3.1/10.6 MB 1.9 MB/s eta 0:00:04\n",
            "   --------------- ------------------------ 4.2/10.6 MB 2.4 MB/s eta 0:00:03\n",
            "   ------------------ --------------------- 5.0/10.6 MB 2.5 MB/s eta 0:00:03\n",
            "   ---------------------- ----------------- 6.0/10.6 MB 2.7 MB/s eta 0:00:02\n",
            "   ------------------------------ --------- 8.1/10.6 MB 3.3 MB/s eta 0:00:01\n",
            "   -------------------------------------- - 10.2/10.6 MB 3.9 MB/s eta 0:00:01\n",
            "   ---------------------------------------- 10.6/10.6 MB 3.9 MB/s eta 0:00:00\n",
            "Downloading gymnasium-1.1.1-py3-none-any.whl (965 kB)\n",
            "   ---------------------------------------- 0.0/965.4 kB ? eta -:--:--\n",
            "   ---------------------------------------- 965.4/965.4 kB 8.9 MB/s eta 0:00:00\n",
            "Building wheels for collected packages: box2d-py\n",
            "  Building wheel for box2d-py (setup.py): started\n",
            "  Building wheel for box2d-py (setup.py): finished with status 'done'\n",
            "  Created wheel for box2d-py: filename=box2d_py-2.3.5-cp312-cp312-win_amd64.whl size=440788 sha256=a01a94993567e6e1f5edee68a1aa65c42970095bd9e81463f5f01ce49e972281\n",
            "  Stored in directory: c:\\users\\dondu\\appdata\\local\\pip\\cache\\wheels\\2a\\e9\\60\\774da0bcd07f7dc7761a8590fa2d065e4069568e78dcdc3318\n",
            "Successfully built box2d-py\n",
            "Installing collected packages: farama-notifications, box2d-py, pygame, cloudpickle, gymnasium\n",
            "Successfully installed box2d-py-2.3.5 cloudpickle-3.1.1 farama-notifications-0.0.4 gymnasium-1.1.1 pygame-2.6.1\n"
          ]
        },
        {
          "name": "stderr",
          "output_type": "stream",
          "text": [
            "\n",
            "[notice] A new release of pip is available: 24.2 -> 25.1.1\n",
            "[notice] To update, run: python.exe -m pip install --upgrade pip\n"
          ]
        }
      ],
      "source": [
        "!pip install \"gymnasium[box2d]\""
      ]
    },
    {
      "cell_type": "code",
      "execution_count": null,
      "metadata": {
        "id": "ehMdoFla12oo"
      },
      "outputs": [],
      "source": [
        "import numpy as np\n",
        "import gymnasium as gym\n",
        "import math\n",
        "import torch.nn.functional as F"
      ]
    },
    {
      "cell_type": "code",
      "execution_count": 5,
      "metadata": {
        "id": "7ULAPPeN10tR"
      },
      "outputs": [
        {
          "name": "stdout",
          "output_type": "stream",
          "text": [
            "[-0.13703014  0.74272816  0.33811851  0.04608804  0.10973777  0.35198605\n",
            "  0.02301245 -0.23384887]\n",
            "Neuron output: 0.6080787177621686\n"
          ]
        }
      ],
      "source": [
        "# Класс нейрона скрытого слоя \n",
        "# === Класс нейрона скрытого слоя ===\n",
        "class Neuron:\n",
        "    def __init__(self, input_size):\n",
        "        self.weights = np.random.randn(input_size) * math.sqrt(2. / input_size)\n",
        "        self.bias = 0.0\n",
        "\n",
        "    def activate(self, x):\n",
        "        z = np.dot(x, self.weights) + self.bias\n",
        "        return np.tanh(z)\n",
        "n = Neuron(input_size=8)\n",
        "print(n.weights)\n",
        "x = np.random.randn(8)\n",
        "output = n.activate(x)\n",
        "print(\"Neuron output:\", output)"
      ]
    },
    {
      "cell_type": "code",
      "execution_count": 14,
      "metadata": {},
      "outputs": [
        {
          "name": "stdout",
          "output_type": "stream",
          "text": [
            "<__main__.Neuron object at 0x0000025896A111C0>\n",
            "<__main__.Neuron object at 0x0000025896A11760>\n",
            "<__main__.Neuron object at 0x00000258ACEDAA20>\n",
            "<__main__.Neuron object at 0x00000258ACEDAE10>\n",
            "<__main__.Neuron object at 0x00000258ACEDAF90>\n",
            "Веса первого нейрона: [ 0.42567949  0.72282065 -0.82869737  0.71378388  0.25574556 -0.47463793\n",
            "  0.04506419 -0.09617698]\n",
            "Мутировавшие веса: [ 0.29202439  0.5614486  -0.64595706  0.56745452  0.10051797 -0.51312563\n",
            "  0.01479519 -0.03920211]\n",
            "Популяция эволюционировала - новые веса первого нейрона: [-0.41260744 -0.33737046  0.21474742  0.78204074  0.37456986  0.70607171\n",
            " -0.13434175 -0.86438971]\n"
          ]
        }
      ],
      "source": [
        "# Популяция нейронов скрытого слоя \n",
        "class NeuronPopulation:\n",
        "    def __init__(self, input_size, population_size):\n",
        "        self.neurons = [Neuron(input_size) for _ in range(population_size)]\n",
        "\n",
        "    def mutate(self, neuron, mutation_strength):\n",
        "        new_neuron = Neuron(len(neuron.weights))\n",
        "        new_neuron.weights = neuron.weights + np.random.normal(0, mutation_strength, size=neuron.weights.shape)\n",
        "        new_neuron.bias = neuron.bias + np.random.normal(0, mutation_strength)\n",
        "        return new_neuron\n",
        "\n",
        "    def evolve(self, fitnesses, mutation_strength):\n",
        "        sorted_indices = np.argsort(fitnesses)[::-1]\n",
        "        top = [self.neurons[i] for i in sorted_indices[:len(self.neurons)//2]]\n",
        "        new_population = []\n",
        "        for neuron in top:\n",
        "            new_population.append(neuron)\n",
        "            new_population.append(self.mutate(neuron, mutation_strength))\n",
        "        self.neurons = new_population[:len(self.neurons)]\n",
        "\n",
        "pop = NeuronPopulation(input_size=8, population_size=5)\n",
        "for i in range(len(pop.neurons)):\n",
        "  print(pop.neurons[i])\n",
        "print(\"Веса первого нейрона:\", pop.neurons[0].weights)\n",
        "\n",
        "mut_neuron = pop.mutate(pop.neurons[0], mutation_strength=0.1)\n",
        "print(\"Мутировавшие веса:\", mut_neuron.weights)\n",
        "\n",
        "fitnesses = np.random.randn(5)\n",
        "pop.evolve(fitnesses, mutation_strength=0.1)\n",
        "print(\"Популяция эволюционировала - новые веса первого нейрона:\", pop.neurons[0].weights)\n"
      ]
    },
    {
      "cell_type": "code",
      "execution_count": 9,
      "metadata": {},
      "outputs": [
        {
          "name": "stdout",
          "output_type": "stream",
          "text": [
            "Выход: [-1.35493425  0.0409108   0.01991938]\n"
          ]
        }
      ],
      "source": [
        "class OutputLayer:\n",
        "    def __init__(self, hidden_size, output_size):\n",
        "        self.weights = np.random.randn(hidden_size, output_size)\n",
        "\n",
        "    def forward(self, hidden_output):\n",
        "        return np.dot(hidden_output, self.weights)\n",
        "    \n",
        "ol = OutputLayer(hidden_size=4, output_size=3)\n",
        "hidden_output = np.array([0.5, -0.2, 0.1, 0.9])\n",
        "output = ol.forward(hidden_output)\n",
        "print(\"Выход:\", output)"
      ]
    },
    {
      "cell_type": "code",
      "execution_count": null,
      "metadata": {},
      "outputs": [
        {
          "name": "stdout",
          "output_type": "stream",
          "text": [
            "<__main__.OutputLayer object at 0x00000258ACEDB170>\n",
            "<__main__.OutputLayer object at 0x00000258ACEDB980>\n",
            "<__main__.OutputLayer object at 0x00000258ACED9820>\n",
            "<__main__.OutputLayer object at 0x00000258ACEDA5D0>\n",
            "<__main__.OutputLayer object at 0x00000258ACED9310>\n",
            "Изначальные веса первого слоя: [[-0.30975242 -0.84171311  1.12921823]\n",
            " [-1.01035101 -0.34536254  0.78064809]\n",
            " [-1.36559108 -1.6858451   1.26461658]\n",
            " [ 0.20121101  1.01532726 -0.09413126]]\n",
            "Мутировавшие веса: [[-0.36182279 -0.78561498  1.03448899]\n",
            " [-1.00042242 -0.33659015  0.60662937]\n",
            " [-1.38722548 -1.58220321  1.21170848]\n",
            " [ 0.28558941  0.89099227 -0.19327814]]\n",
            "Популяция эволюционировала - новые веса первого слоя: [[-1.55439584  1.06818663 -0.34553246]\n",
            " [-0.31226088 -0.48521491  2.30782055]\n",
            " [ 1.80016657  0.07111576 -0.70082325]\n",
            " [-1.27062081 -0.65996415 -1.24357845]]\n"
          ]
        }
      ],
      "source": [
        "class OutputPopulation:\n",
        "    def __init__(self, hidden_size, output_size, population_size):\n",
        "        self.layers = [OutputLayer(hidden_size, output_size) for _ in range(population_size)]\n",
        "\n",
        "    def mutate(self, layer, mutation_strength):\n",
        "        new_layer = OutputLayer(layer.weights.shape[0], layer.weights.shape[1])\n",
        "        new_layer.weights = layer.weights + np.random.normal(0, mutation_strength, size=layer.weights.shape)\n",
        "        return new_layer\n",
        "\n",
        "    def evolve(self, fitnesses, mutation_strength):\n",
        "        sorted_indices = np.argsort(fitnesses)[::-1]\n",
        "        top = [self.layers[i] for i in sorted_indices[:len(self.layers)//2]]\n",
        "        new_population = []\n",
        "        for layer in top:\n",
        "            new_population.append(layer)\n",
        "            new_population.append(self.mutate(layer, mutation_strength))\n",
        "        self.layers = new_population[:len(self.layers)]\n",
        "\n",
        "pop = OutputPopulation(hidden_size=4, output_size=3, population_size=5)\n",
        "for i in range(len(pop.layers)):\n",
        "    print(pop.layers[i])\n",
        "\n",
        "mut_layer = pop.mutate(pop.layers[0], mutation_strength=0.1)\n",
        "print(\"Изначальные веса первого слоя:\", pop.layers[0].weights)\n",
        "print(\"Мутировавшие веса:\", mut_layer.weights)\n",
        "\n",
        "# случайные фитнесы\n",
        "fitnesses = np.random.randn(5)\n",
        "pop.evolve(fitnesses, mutation_strength=0.1)\n",
        "print(\"Популяция эволюционировала - новые веса первого слоя:\", pop.layers[0].weights)"
      ]
    },
    {
      "cell_type": "code",
      "execution_count": null,
      "metadata": {},
      "outputs": [],
      "source": [
        "# Полная сеть из скрытых нейронов и выходного слоя \n",
        "class Network:\n",
        "    def __init__(self, neurons, output_layer):\n",
        "        self.neurons = neurons\n",
        "        self.output_layer = output_layer\n",
        "\n",
        "    def forward(self, x):\n",
        "        hidden_outputs = np.array([neuron.activate(x) for neuron in self.neurons])\n",
        "        logits = self.output_layer.forward(hidden_outputs)\n",
        "        return np.argmax(logits)"
      ]
    }
  ],
  "metadata": {
    "colab": {
      "provenance": []
    },
    "kernelspec": {
      "display_name": "Python 3",
      "name": "python3"
    },
    "language_info": {
      "codemirror_mode": {
        "name": "ipython",
        "version": 3
      },
      "file_extension": ".py",
      "mimetype": "text/x-python",
      "name": "python",
      "nbconvert_exporter": "python",
      "pygments_lexer": "ipython3",
      "version": "3.12.6"
    }
  },
  "nbformat": 4,
  "nbformat_minor": 0
}
