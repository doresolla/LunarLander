{
  "cells": [
    {
      "cell_type": "code",
      "execution_count": 2,
      "metadata": {
        "colab": {
          "base_uri": "https://localhost:8080/"
        },
        "id": "2ER3J6pNMrDH",
        "outputId": "c79c4937-a1d4-4b62-e5e8-acaf3150b1fd"
      },
      "outputs": [
        {
          "name": "stdout",
          "output_type": "stream",
          "text": [
            "Requirement already satisfied: swig in c:\\users\\dondu\\appdata\\local\\programs\\python\\python312\\lib\\site-packages (4.3.1)\n"
          ]
        },
        {
          "name": "stderr",
          "output_type": "stream",
          "text": [
            "\n",
            "[notice] A new release of pip is available: 24.2 -> 25.1.1\n",
            "[notice] To update, run: python.exe -m pip install --upgrade pip\n"
          ]
        }
      ],
      "source": [
        "!pip install swig"
      ]
    },
    {
      "cell_type": "code",
      "execution_count": 3,
      "metadata": {
        "colab": {
          "base_uri": "https://localhost:8080/"
        },
        "id": "oMpA62MiMiqY",
        "outputId": "55932bb6-2938-4c46-d59d-bcc44b1fc30b"
      },
      "outputs": [
        {
          "name": "stdout",
          "output_type": "stream",
          "text": [
            "Collecting gymnasium[box2d]\n",
            "  Downloading gymnasium-1.1.1-py3-none-any.whl.metadata (9.4 kB)\n",
            "Requirement already satisfied: numpy>=1.21.0 in c:\\users\\dondu\\appdata\\local\\programs\\python\\python312\\lib\\site-packages (from gymnasium[box2d]) (1.26.4)\n",
            "Collecting cloudpickle>=1.2.0 (from gymnasium[box2d])\n",
            "  Downloading cloudpickle-3.1.1-py3-none-any.whl.metadata (7.1 kB)\n",
            "Requirement already satisfied: typing-extensions>=4.3.0 in c:\\users\\dondu\\appdata\\local\\programs\\python\\python312\\lib\\site-packages (from gymnasium[box2d]) (4.12.2)\n",
            "Collecting farama-notifications>=0.0.1 (from gymnasium[box2d])\n",
            "  Downloading Farama_Notifications-0.0.4-py3-none-any.whl.metadata (558 bytes)\n",
            "Collecting box2d-py==2.3.5 (from gymnasium[box2d])\n",
            "  Downloading box2d-py-2.3.5.tar.gz (374 kB)\n",
            "  Preparing metadata (setup.py): started\n",
            "  Preparing metadata (setup.py): finished with status 'done'\n",
            "Collecting pygame>=2.1.3 (from gymnasium[box2d])\n",
            "  Downloading pygame-2.6.1-cp312-cp312-win_amd64.whl.metadata (13 kB)\n",
            "Requirement already satisfied: swig==4.* in c:\\users\\dondu\\appdata\\local\\programs\\python\\python312\\lib\\site-packages (from gymnasium[box2d]) (4.3.1)\n",
            "Downloading cloudpickle-3.1.1-py3-none-any.whl (20 kB)\n",
            "Downloading Farama_Notifications-0.0.4-py3-none-any.whl (2.5 kB)\n",
            "Downloading pygame-2.6.1-cp312-cp312-win_amd64.whl (10.6 MB)\n",
            "   ---------------------------------------- 0.0/10.6 MB ? eta -:--:--\n",
            "   -- ------------------------------------- 0.8/10.6 MB 4.2 MB/s eta 0:00:03\n",
            "   ---- ----------------------------------- 1.3/10.6 MB 5.2 MB/s eta 0:00:02\n",
            "   ---- ----------------------------------- 1.3/10.6 MB 5.2 MB/s eta 0:00:02\n",
            "   ---- ----------------------------------- 1.3/10.6 MB 5.2 MB/s eta 0:00:02\n",
            "   ----- ---------------------------------- 1.6/10.6 MB 1.5 MB/s eta 0:00:06\n",
            "   ------ --------------------------------- 1.8/10.6 MB 1.4 MB/s eta 0:00:07\n",
            "   -------- ------------------------------- 2.4/10.6 MB 1.6 MB/s eta 0:00:06\n",
            "   ----------- ---------------------------- 3.1/10.6 MB 1.9 MB/s eta 0:00:04\n",
            "   --------------- ------------------------ 4.2/10.6 MB 2.4 MB/s eta 0:00:03\n",
            "   ------------------ --------------------- 5.0/10.6 MB 2.5 MB/s eta 0:00:03\n",
            "   ---------------------- ----------------- 6.0/10.6 MB 2.7 MB/s eta 0:00:02\n",
            "   ------------------------------ --------- 8.1/10.6 MB 3.3 MB/s eta 0:00:01\n",
            "   -------------------------------------- - 10.2/10.6 MB 3.9 MB/s eta 0:00:01\n",
            "   ---------------------------------------- 10.6/10.6 MB 3.9 MB/s eta 0:00:00\n",
            "Downloading gymnasium-1.1.1-py3-none-any.whl (965 kB)\n",
            "   ---------------------------------------- 0.0/965.4 kB ? eta -:--:--\n",
            "   ---------------------------------------- 965.4/965.4 kB 8.9 MB/s eta 0:00:00\n",
            "Building wheels for collected packages: box2d-py\n",
            "  Building wheel for box2d-py (setup.py): started\n",
            "  Building wheel for box2d-py (setup.py): finished with status 'done'\n",
            "  Created wheel for box2d-py: filename=box2d_py-2.3.5-cp312-cp312-win_amd64.whl size=440788 sha256=a01a94993567e6e1f5edee68a1aa65c42970095bd9e81463f5f01ce49e972281\n",
            "  Stored in directory: c:\\users\\dondu\\appdata\\local\\pip\\cache\\wheels\\2a\\e9\\60\\774da0bcd07f7dc7761a8590fa2d065e4069568e78dcdc3318\n",
            "Successfully built box2d-py\n",
            "Installing collected packages: farama-notifications, box2d-py, pygame, cloudpickle, gymnasium\n",
            "Successfully installed box2d-py-2.3.5 cloudpickle-3.1.1 farama-notifications-0.0.4 gymnasium-1.1.1 pygame-2.6.1\n"
          ]
        },
        {
          "name": "stderr",
          "output_type": "stream",
          "text": [
            "\n",
            "[notice] A new release of pip is available: 24.2 -> 25.1.1\n",
            "[notice] To update, run: python.exe -m pip install --upgrade pip\n"
          ]
        }
      ],
      "source": [
        "!pip install \"gymnasium[box2d]\""
      ]
    },
    {
      "cell_type": "code",
      "execution_count": null,
      "metadata": {
        "id": "ehMdoFla12oo"
      },
      "outputs": [],
      "source": [
        "import numpy as np\n",
        "import gymnasium as gym\n",
        "import math\n",
        "import torch.nn.functional as F"
      ]
    },
    {
      "cell_type": "code",
      "execution_count": 5,
      "metadata": {
        "id": "7ULAPPeN10tR"
      },
      "outputs": [
        {
          "name": "stdout",
          "output_type": "stream",
          "text": [
            "[-0.13703014  0.74272816  0.33811851  0.04608804  0.10973777  0.35198605\n",
            "  0.02301245 -0.23384887]\n",
            "Neuron output: 0.6080787177621686\n"
          ]
        }
      ],
      "source": [
        "# Класс нейрона скрытого слоя \n",
        "# === Класс нейрона скрытого слоя ===\n",
        "class Neuron:\n",
        "    def __init__(self, input_size):\n",
        "        self.weights = np.random.randn(input_size) * math.sqrt(2. / input_size)\n",
        "        self.bias = 0.0\n",
        "\n",
        "    def activate(self, x):\n",
        "        z = np.dot(x, self.weights) + self.bias\n",
        "        return np.tanh(z)\n",
        "n = Neuron(input_size=8)\n",
        "print(n.weights)\n",
        "x = np.random.randn(8)\n",
        "output = n.activate(x)\n",
        "print(\"Neuron output:\", output)"
      ]
    },
    {
      "cell_type": "code",
      "execution_count": 6,
      "metadata": {},
      "outputs": [
        {
          "name": "stdout",
          "output_type": "stream",
          "text": [
            "<__main__.Neuron object at 0x00000258ACED9C10>\n",
            "<__main__.Neuron object at 0x00000258ACC738F0>\n",
            "<__main__.Neuron object at 0x00000258968D1700>\n",
            "<__main__.Neuron object at 0x00000258968D05C0>\n",
            "<__main__.Neuron object at 0x0000025896A11910>\n",
            "Веса первого нейрона: [ 0.17665049  0.98453998 -0.54107708 -0.19167655  0.38970937  0.18731136\n",
            " -0.75703331 -0.22389388]\n",
            "Мутировавшие веса: [ 0.21147102  0.93296466 -0.48894403 -0.35066851  0.29409809  0.2661975\n",
            " -0.73207824 -0.17109773]\n",
            "Поплуяция эволюционировала - новые веса первого нейрона: [ 0.33991579 -0.15939845  0.17774244  0.45318757  0.17383878 -0.26713338\n",
            " -1.04978021 -0.60431183]\n"
          ]
        }
      ],
      "source": [
        "# Популяция нейронов скрытого слоя \n",
        "class NeuronPopulation:\n",
        "    def __init__(self, input_size, population_size):\n",
        "        self.neurons = [Neuron(input_size) for _ in range(population_size)]\n",
        "\n",
        "    def mutate(self, neuron, mutation_strength):\n",
        "        new_neuron = Neuron(len(neuron.weights))\n",
        "        new_neuron.weights = neuron.weights + np.random.normal(0, mutation_strength, size=neuron.weights.shape)\n",
        "        new_neuron.bias = neuron.bias + np.random.normal(0, mutation_strength)\n",
        "        return new_neuron\n",
        "\n",
        "    def evolve(self, fitnesses, mutation_strength):\n",
        "        sorted_indices = np.argsort(fitnesses)[::-1]\n",
        "        top = [self.neurons[i] for i in sorted_indices[:len(self.neurons)//2]]\n",
        "        new_population = []\n",
        "        for neuron in top:\n",
        "            new_population.append(neuron)\n",
        "            new_population.append(self.mutate(neuron, mutation_strength))\n",
        "        self.neurons = new_population[:len(self.neurons)]\n",
        "\n",
        "pop = NeuronPopulation(input_size=8, population_size=5)\n",
        "for i in range(5):\n",
        "  print(pop.neurons[i])\n",
        "print(\"Веса первого нейрона:\", pop.neurons[0].weights)\n",
        "\n",
        "mut_neuron = pop.mutate(pop.neurons[0], mutation_strength=0.1)\n",
        "print(\"Мутировавшие веса:\", mut_neuron.weights)\n",
        "\n",
        "fitnesses = np.random.randn(5)\n",
        "pop.evolve(fitnesses, mutation_strength=0.1)\n",
        "print(\"Поплуяция эволюционировала - новые веса первого нейрона:\", pop.neurons[0].weights)\n"
      ]
    },
    {
      "cell_type": "code",
      "execution_count": 9,
      "metadata": {},
      "outputs": [
        {
          "name": "stdout",
          "output_type": "stream",
          "text": [
            "Выход: [-1.35493425  0.0409108   0.01991938]\n"
          ]
        }
      ],
      "source": [
        "class OutputLayer:\n",
        "    def __init__(self, hidden_size, output_size):\n",
        "        self.weights = np.random.randn(hidden_size, output_size)\n",
        "\n",
        "    def forward(self, hidden_output):\n",
        "        return np.dot(hidden_output, self.weights)\n",
        "    \n",
        "ol = OutputLayer(hidden_size=4, output_size=3)\n",
        "hidden_output = np.array([0.5, -0.2, 0.1, 0.9])\n",
        "output = ol.forward(hidden_output)\n",
        "print(\"Выход:\", output)"
      ]
    }
  ],
  "metadata": {
    "colab": {
      "provenance": []
    },
    "kernelspec": {
      "display_name": "Python 3",
      "name": "python3"
    },
    "language_info": {
      "codemirror_mode": {
        "name": "ipython",
        "version": 3
      },
      "file_extension": ".py",
      "mimetype": "text/x-python",
      "name": "python",
      "nbconvert_exporter": "python",
      "pygments_lexer": "ipython3",
      "version": "3.12.6"
    }
  },
  "nbformat": 4,
  "nbformat_minor": 0
}
