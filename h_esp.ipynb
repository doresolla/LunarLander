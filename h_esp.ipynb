{
  "cells": [
    {
      "cell_type": "code",
      "execution_count": 2,
      "metadata": {
        "colab": {
          "base_uri": "https://localhost:8080/"
        },
        "id": "2ER3J6pNMrDH",
        "outputId": "c79c4937-a1d4-4b62-e5e8-acaf3150b1fd"
      },
      "outputs": [
        {
          "name": "stdout",
          "output_type": "stream",
          "text": [
            "Requirement already satisfied: swig in c:\\users\\dondu\\appdata\\local\\programs\\python\\python312\\lib\\site-packages (4.3.1)\n"
          ]
        },
        {
          "name": "stderr",
          "output_type": "stream",
          "text": [
            "\n",
            "[notice] A new release of pip is available: 24.2 -> 25.1.1\n",
            "[notice] To update, run: python.exe -m pip install --upgrade pip\n"
          ]
        }
      ],
      "source": [
        "!pip install swig"
      ]
    },
    {
      "cell_type": "code",
      "execution_count": 3,
      "metadata": {
        "colab": {
          "base_uri": "https://localhost:8080/"
        },
        "id": "oMpA62MiMiqY",
        "outputId": "55932bb6-2938-4c46-d59d-bcc44b1fc30b"
      },
      "outputs": [
        {
          "name": "stdout",
          "output_type": "stream",
          "text": [
            "Collecting gymnasium[box2d]\n",
            "  Downloading gymnasium-1.1.1-py3-none-any.whl.metadata (9.4 kB)\n",
            "Requirement already satisfied: numpy>=1.21.0 in c:\\users\\dondu\\appdata\\local\\programs\\python\\python312\\lib\\site-packages (from gymnasium[box2d]) (1.26.4)\n",
            "Collecting cloudpickle>=1.2.0 (from gymnasium[box2d])\n",
            "  Downloading cloudpickle-3.1.1-py3-none-any.whl.metadata (7.1 kB)\n",
            "Requirement already satisfied: typing-extensions>=4.3.0 in c:\\users\\dondu\\appdata\\local\\programs\\python\\python312\\lib\\site-packages (from gymnasium[box2d]) (4.12.2)\n",
            "Collecting farama-notifications>=0.0.1 (from gymnasium[box2d])\n",
            "  Downloading Farama_Notifications-0.0.4-py3-none-any.whl.metadata (558 bytes)\n",
            "Collecting box2d-py==2.3.5 (from gymnasium[box2d])\n",
            "  Downloading box2d-py-2.3.5.tar.gz (374 kB)\n",
            "  Preparing metadata (setup.py): started\n",
            "  Preparing metadata (setup.py): finished with status 'done'\n",
            "Collecting pygame>=2.1.3 (from gymnasium[box2d])\n",
            "  Downloading pygame-2.6.1-cp312-cp312-win_amd64.whl.metadata (13 kB)\n",
            "Requirement already satisfied: swig==4.* in c:\\users\\dondu\\appdata\\local\\programs\\python\\python312\\lib\\site-packages (from gymnasium[box2d]) (4.3.1)\n",
            "Downloading cloudpickle-3.1.1-py3-none-any.whl (20 kB)\n",
            "Downloading Farama_Notifications-0.0.4-py3-none-any.whl (2.5 kB)\n",
            "Downloading pygame-2.6.1-cp312-cp312-win_amd64.whl (10.6 MB)\n",
            "   ---------------------------------------- 0.0/10.6 MB ? eta -:--:--\n",
            "   -- ------------------------------------- 0.8/10.6 MB 4.2 MB/s eta 0:00:03\n",
            "   ---- ----------------------------------- 1.3/10.6 MB 5.2 MB/s eta 0:00:02\n",
            "   ---- ----------------------------------- 1.3/10.6 MB 5.2 MB/s eta 0:00:02\n",
            "   ---- ----------------------------------- 1.3/10.6 MB 5.2 MB/s eta 0:00:02\n",
            "   ----- ---------------------------------- 1.6/10.6 MB 1.5 MB/s eta 0:00:06\n",
            "   ------ --------------------------------- 1.8/10.6 MB 1.4 MB/s eta 0:00:07\n",
            "   -------- ------------------------------- 2.4/10.6 MB 1.6 MB/s eta 0:00:06\n",
            "   ----------- ---------------------------- 3.1/10.6 MB 1.9 MB/s eta 0:00:04\n",
            "   --------------- ------------------------ 4.2/10.6 MB 2.4 MB/s eta 0:00:03\n",
            "   ------------------ --------------------- 5.0/10.6 MB 2.5 MB/s eta 0:00:03\n",
            "   ---------------------- ----------------- 6.0/10.6 MB 2.7 MB/s eta 0:00:02\n",
            "   ------------------------------ --------- 8.1/10.6 MB 3.3 MB/s eta 0:00:01\n",
            "   -------------------------------------- - 10.2/10.6 MB 3.9 MB/s eta 0:00:01\n",
            "   ---------------------------------------- 10.6/10.6 MB 3.9 MB/s eta 0:00:00\n",
            "Downloading gymnasium-1.1.1-py3-none-any.whl (965 kB)\n",
            "   ---------------------------------------- 0.0/965.4 kB ? eta -:--:--\n",
            "   ---------------------------------------- 965.4/965.4 kB 8.9 MB/s eta 0:00:00\n",
            "Building wheels for collected packages: box2d-py\n",
            "  Building wheel for box2d-py (setup.py): started\n",
            "  Building wheel for box2d-py (setup.py): finished with status 'done'\n",
            "  Created wheel for box2d-py: filename=box2d_py-2.3.5-cp312-cp312-win_amd64.whl size=440788 sha256=a01a94993567e6e1f5edee68a1aa65c42970095bd9e81463f5f01ce49e972281\n",
            "  Stored in directory: c:\\users\\dondu\\appdata\\local\\pip\\cache\\wheels\\2a\\e9\\60\\774da0bcd07f7dc7761a8590fa2d065e4069568e78dcdc3318\n",
            "Successfully built box2d-py\n",
            "Installing collected packages: farama-notifications, box2d-py, pygame, cloudpickle, gymnasium\n",
            "Successfully installed box2d-py-2.3.5 cloudpickle-3.1.1 farama-notifications-0.0.4 gymnasium-1.1.1 pygame-2.6.1\n"
          ]
        },
        {
          "name": "stderr",
          "output_type": "stream",
          "text": [
            "\n",
            "[notice] A new release of pip is available: 24.2 -> 25.1.1\n",
            "[notice] To update, run: python.exe -m pip install --upgrade pip\n"
          ]
        }
      ],
      "source": [
        "!pip install \"gymnasium[box2d]\""
      ]
    },
    {
      "cell_type": "code",
      "execution_count": null,
      "metadata": {
        "id": "ehMdoFla12oo"
      },
      "outputs": [],
      "source": [
        "import numpy as np\n",
        "import gymnasium as gym\n",
        "import math\n",
        "import torch.nn.functional as F"
      ]
    },
    {
      "cell_type": "code",
      "execution_count": 5,
      "metadata": {
        "id": "7ULAPPeN10tR"
      },
      "outputs": [
        {
          "name": "stdout",
          "output_type": "stream",
          "text": [
            "[-0.13703014  0.74272816  0.33811851  0.04608804  0.10973777  0.35198605\n",
            "  0.02301245 -0.23384887]\n",
            "Neuron output: 0.6080787177621686\n"
          ]
        }
      ],
      "source": [
        "# Класс нейрона скрытого слоя \n",
        "# === Класс нейрона скрытого слоя ===\n",
        "class Neuron:\n",
        "    def __init__(self, input_size):\n",
        "        self.weights = np.random.randn(input_size) * math.sqrt(2. / input_size)\n",
        "        self.bias = 0.0\n",
        "\n",
        "    def activate(self, x):\n",
        "        z = np.dot(x, self.weights) + self.bias\n",
        "        return np.tanh(z)\n",
        "n = Neuron(input_size=8)\n",
        "print(n.weights)\n",
        "x = np.random.randn(8)\n",
        "output = n.activate(x)\n",
        "print(\"Neuron output:\", output)"
      ]
    },
    {
      "cell_type": "code",
      "execution_count": null,
      "metadata": {},
      "outputs": [],
      "source": []
    }
  ],
  "metadata": {
    "colab": {
      "provenance": []
    },
    "kernelspec": {
      "display_name": "Python 3",
      "name": "python3"
    },
    "language_info": {
      "codemirror_mode": {
        "name": "ipython",
        "version": 3
      },
      "file_extension": ".py",
      "mimetype": "text/x-python",
      "name": "python",
      "nbconvert_exporter": "python",
      "pygments_lexer": "ipython3",
      "version": "3.12.6"
    }
  },
  "nbformat": 4,
  "nbformat_minor": 0
}
